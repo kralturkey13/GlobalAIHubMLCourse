{
 "cells": [
  {
   "cell_type": "markdown",
   "metadata": {},
   "source": [
    "<h2>Homework 1</h2>"
   ]
  },
  {
   "cell_type": "markdown",
   "metadata": {},
   "source": [
    "<b>1) How would you define Machine Learning?</b>"
   ]
  },
  {
   "cell_type": "markdown",
   "metadata": {},
   "source": [
    "Machine Learning is letting the computer set some rules according to given data. Then we can use these rules to predict future values like prediction of house prices or classifying an image contains cat or dog."
   ]
  },
  {
   "cell_type": "markdown",
   "metadata": {},
   "source": [
    "<b>2) What are the differences between Supervised and Unsupervised Learning? Specify example 3 algorithms for each of these.</b>"
   ]
  },
  {
   "cell_type": "markdown",
   "metadata": {},
   "source": [
    "In supervised learning we give <b>labelled</b> data to the computer. On the other hand, in unsupervised learning computer trains on <b>unlabelled, non classified</b> data. So in this case computer have to decide what is what. \n",
    "Supervised learning algorithms are Naive Bayes, SVM, Random Forest, Linear/Logistic Regression etc.\n",
    "Unsupervised learning algorithms are K-Means, K-nearest neighbor and PCA etc."
   ]
  },
  {
   "cell_type": "markdown",
   "metadata": {},
   "source": [
    "<b>3) What are the test and validation set, and why would you want to use them?</b>"
   ]
  },
  {
   "cell_type": "markdown",
   "metadata": {},
   "source": [
    "Test Set is the set that you test your model's accuracy. Test Set should be different than training data. The model should not see the Test Set before in order to create a reliable model.\n",
    "If the accuracy is not good enough for you, you can use the Validation Set to tune your model's hyperparameters like hidden units/layers, number of epochs etc."
   ]
  },
  {
   "cell_type": "markdown",
   "metadata": {},
   "source": [
    "<b>4) What are the main preprocessing steps? Explain them in detail. Why we need to prepare our data?</b>"
   ]
  },
  {
   "cell_type": "markdown",
   "metadata": {},
   "source": [
    "We need to prepare our data, because it's directly impacts success rate of the project. Your data could have a missing attribute, attribute values, contain noise or outliers and duplicate or wrong data. You cannot create a reliable model without preprocessing these.\n",
    "\n",
    "There are four main preprocessing steps: First, identifyand handle the missing values. Then encode the categorical data. Third step is splitting the dataset into train/test/validation sets and finaly scale the features of the data. These are the main preprocessing steps."
   ]
  },
  {
   "cell_type": "markdown",
   "metadata": {},
   "source": [
    "<b>5) How you can explore countionus and discrete variables?</b>"
   ]
  },
  {
   "cell_type": "markdown",
   "metadata": {},
   "source": [
    "Discrete variables are countable in a finite amount of time. For example of the number of books you read every month. This is a discrete variable. On the contrast, Continuous Variables would take forever to count. "
   ]
  },
  {
   "cell_type": "markdown",
   "metadata": {},
   "source": [
    "<b>6) Analyse the plot given below. (What is the plot and variable type, check the distribution and make comment about how you can preproccess it.)</b>"
   ]
  },
  {
   "cell_type": "markdown",
   "metadata": {},
   "source": [
    "![](images/graph.png)"
   ]
  },
  {
   "cell_type": "markdown",
   "metadata": {},
   "source": [
    "This is a graph of continuous data. There is a y for every x wherever you pick. This graph is an example of <b>bimodal distribution</b>. "
   ]
  }
 ],
 "metadata": {
  "kernelspec": {
   "display_name": "Python 3",
   "language": "python",
   "name": "python3"
  },
  "language_info": {
   "codemirror_mode": {
    "name": "ipython",
    "version": 3
   },
   "file_extension": ".py",
   "mimetype": "text/x-python",
   "name": "python",
   "nbconvert_exporter": "python",
   "pygments_lexer": "ipython3",
   "version": "3.7.6"
  }
 },
 "nbformat": 4,
 "nbformat_minor": 4
}
